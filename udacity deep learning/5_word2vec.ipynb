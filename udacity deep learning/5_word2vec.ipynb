{
 "cells": [
  {
   "cell_type": "markdown",
   "metadata": {
    "colab_type": "text",
    "id": "D7tqLMoKF6uq"
   },
   "source": [
    "Deep Learning\n",
    "=============\n",
    "\n",
    "Assignment 5\n",
    "------------\n",
    "\n",
    "The goal of this assignment is to train a Word2Vec skip-gram model over [Text8](http://mattmahoney.net/dc/textdata) data."
   ]
  },
  {
   "cell_type": "code",
   "execution_count": 1,
   "metadata": {
    "ExecuteTime": {
     "end_time": "2018-06-09T21:39:29.785297Z",
     "start_time": "2018-06-09T21:39:29.768926Z"
    },
    "cellView": "both",
    "colab": {
     "autoexec": {
      "startup": false,
      "wait_interval": 0
     }
    },
    "colab_type": "code",
    "id": "0K1ZyLn04QZf",
    "init_cell": true
   },
   "outputs": [
    {
     "name": "stderr",
     "output_type": "stream",
     "text": [
      "/home/dominik/anaconda3/lib/python3.6/site-packages/h5py/__init__.py:36: FutureWarning: Conversion of the second argument of issubdtype from `float` to `np.floating` is deprecated. In future, it will be treated as `np.float64 == np.dtype(float).type`.\n",
      "  from ._conv import register_converters as _register_converters\n"
     ]
    }
   ],
   "source": [
    "# These are all the modules we'll be using later. Make sure you can import them\n",
    "# before proceeding further.\n",
    "%matplotlib inline\n",
    "from __future__ import print_function\n",
    "\n",
    "import collections\n",
    "import datetime\n",
    "import math\n",
    "import os\n",
    "import random\n",
    "import zipfile\n",
    "\n",
    "import numpy as np\n",
    "import tensorflow as tf\n",
    "import tqdm\n",
    "from matplotlib import pylab\n",
    "from sklearn.manifold import TSNE\n",
    "\n",
    "from six.moves import range\n",
    "from six.moves.urllib.request import urlretrieve"
   ]
  },
  {
   "cell_type": "markdown",
   "metadata": {
    "colab_type": "text",
    "id": "aCjPJE944bkV"
   },
   "source": [
    "Download the data from the source website if necessary."
   ]
  },
  {
   "cell_type": "code",
   "execution_count": 2,
   "metadata": {
    "ExecuteTime": {
     "end_time": "2018-06-09T21:39:30.706436Z",
     "start_time": "2018-06-09T21:39:30.696316Z"
    },
    "cellView": "both",
    "code_folding": [],
    "colab": {
     "autoexec": {
      "startup": false,
      "wait_interval": 0
     },
     "output_extras": [
      {
       "item_id": 1
      }
     ]
    },
    "colab_type": "code",
    "executionInfo": {
     "elapsed": 14640,
     "status": "ok",
     "timestamp": 1445964482948,
     "user": {
      "color": "#1FA15D",
      "displayName": "Vincent Vanhoucke",
      "isAnonymous": false,
      "isMe": true,
      "permissionId": "05076109866853157986",
      "photoUrl": "//lh6.googleusercontent.com/-cCJa7dTDcgQ/AAAAAAAAAAI/AAAAAAAACgw/r2EZ_8oYer4/s50-c-k-no/photo.jpg",
      "sessionId": "2f1ffade4c9f20de",
      "userId": "102167687554210253930"
     },
     "user_tz": 420
    },
    "id": "RJ-o3UBUFtCw",
    "init_cell": true,
    "outputId": "c4ec222c-80b5-4298-e635-93ca9f79c3b7"
   },
   "outputs": [
    {
     "name": "stdout",
     "output_type": "stream",
     "text": [
      "Found and verified text8.zip\n"
     ]
    }
   ],
   "source": [
    "url = 'http://mattmahoney.net/dc/'\n",
    "\n",
    "\n",
    "def maybe_download(filename, expected_bytes):\n",
    "    \"\"\"Download a file if not present, and make sure it's the right size.\"\"\"\n",
    "    if not os.path.exists(filename):\n",
    "        filename, _ = urlretrieve(url + filename, filename)\n",
    "    statinfo = os.stat(filename)\n",
    "    if statinfo.st_size == expected_bytes:\n",
    "        print('Found and verified %s' % filename)\n",
    "    else:\n",
    "        print(statinfo.st_size)\n",
    "        raise Exception('Failed to verify ' + filename +\n",
    "                        '. Can you get to it with a browser?')\n",
    "    return filename\n",
    "\n",
    "\n",
    "filename = maybe_download('text8.zip', 31344016)"
   ]
  },
  {
   "cell_type": "markdown",
   "metadata": {
    "colab_type": "text",
    "id": "Zqz3XiqI4mZT"
   },
   "source": [
    "Read the data into a string."
   ]
  },
  {
   "cell_type": "code",
   "execution_count": 3,
   "metadata": {
    "ExecuteTime": {
     "end_time": "2018-06-09T21:39:39.748754Z",
     "start_time": "2018-06-09T21:39:31.924362Z"
    },
    "cellView": "both",
    "code_folding": [],
    "colab": {
     "autoexec": {
      "startup": false,
      "wait_interval": 0
     },
     "output_extras": [
      {
       "item_id": 1
      }
     ]
    },
    "colab_type": "code",
    "executionInfo": {
     "elapsed": 28844,
     "status": "ok",
     "timestamp": 1445964497165,
     "user": {
      "color": "#1FA15D",
      "displayName": "Vincent Vanhoucke",
      "isAnonymous": false,
      "isMe": true,
      "permissionId": "05076109866853157986",
      "photoUrl": "//lh6.googleusercontent.com/-cCJa7dTDcgQ/AAAAAAAAAAI/AAAAAAAACgw/r2EZ_8oYer4/s50-c-k-no/photo.jpg",
      "sessionId": "2f1ffade4c9f20de",
      "userId": "102167687554210253930"
     },
     "user_tz": 420
    },
    "id": "Mvf09fjugFU_",
    "init_cell": true,
    "outputId": "e3a928b4-1645-4fe8-be17-fcf47de5716d"
   },
   "outputs": [
    {
     "data": {
      "application/vnd.jupyter.widget-view+json": {
       "model_id": "2a853513435a474fbcb85fa751be17d5",
       "version_major": 2,
       "version_minor": 0
      },
      "text/html": [
       "<p>Failed to display Jupyter Widget of type <code>HBox</code>.</p>\n",
       "<p>\n",
       "  If you're reading this message in the Jupyter Notebook or JupyterLab Notebook, it may mean\n",
       "  that the widgets JavaScript is still loading. If this message persists, it\n",
       "  likely means that the widgets JavaScript library is either not installed or\n",
       "  not enabled. See the <a href=\"https://ipywidgets.readthedocs.io/en/stable/user_install.html\">Jupyter\n",
       "  Widgets Documentation</a> for setup instructions.\n",
       "</p>\n",
       "<p>\n",
       "  If you're reading this message in another frontend (for example, a static\n",
       "  rendering on GitHub or <a href=\"https://nbviewer.jupyter.org/\">NBViewer</a>),\n",
       "  it may mean that your frontend doesn't currently support widgets.\n",
       "</p>\n"
      ],
      "text/plain": [
       "HBox(children=(IntProgress(value=0, max=500), HTML(value='')))"
      ]
     },
     "metadata": {},
     "output_type": "display_data"
    },
    {
     "name": "stdout",
     "output_type": "stream",
     "text": [
      "UnicodeDecodeError in file: Henry David Thoreau___A Week on the Concord and Merrimack Rivers.txt\n",
      "\n",
      "['the', 'stokesley', 'secret', 'by', 'charlotte', 'm', 'yonge', 'chapter', 'i', 'how', 'can', 'a', 'pig', 'pay', 'the', 'rent', 'the', 'question', 'seemed', 'to']\n",
      "Data size 50919413\n"
     ]
    }
   ],
   "source": [
    "words = []\n",
    "for path in tqdm.tqdm_notebook(os.listdir('./textbase-optimized/')[:500]):\n",
    "    try:\n",
    "        with open('./textbase-optimized/' + path, 'r') as f:\n",
    "            string = f.read().lower()\n",
    "            \n",
    "            translation_table = dict.fromkeys(map(ord, '!@#$\",.?“”()_;'), None)\n",
    "            filtered_string = string.translate(translation_table)\n",
    "            \n",
    "            words.extend(filtered_string.split())\n",
    "\n",
    "    except UnicodeDecodeError:\n",
    "        print('UnicodeDecodeError in file: ' + path)\n",
    "\n",
    "        \n",
    "\n",
    "def read_data(filename):\n",
    "    # Extract the first file enclosed in a zip file as a list of words\n",
    "    with zipfile.ZipFile(filename) as f:\n",
    "        data = tf.compat.as_str(f.read(f.namelist()[0])).split()\n",
    "    return data\n",
    "\n",
    "\n",
    "words.extend(read_data(filename))\n",
    "print(words[:20])\n",
    "print('Data size %d' % len(words))"
   ]
  },
  {
   "cell_type": "code",
   "execution_count": 4,
   "metadata": {
    "ExecuteTime": {
     "end_time": "2018-06-09T21:40:04.265416Z",
     "start_time": "2018-06-09T21:40:04.263000Z"
    }
   },
   "outputs": [
    {
     "name": "stdout",
     "output_type": "stream",
     "text": [
      "and you see there is nothing to keep me over here any longer tell me have you had any fortune yet i read the papers every day hoping to see that you have cleared up those two terrible affairs inspector jacks shook his head not yet prince he said not yet the prince echoed dear me that is very unfortunate inspector jacks watched the people who were passing for a moment with a fixed unseeing gaze i am afraid he said that we must seem to you very slow and very stupid very likely we are and yet yet in\n"
     ]
    }
   ],
   "source": [
    "print(' '.join(words[1000000:1000100]))"
   ]
  },
  {
   "cell_type": "markdown",
   "metadata": {
    "colab_type": "text",
    "id": "Zdw6i4F8glpp"
   },
   "source": [
    "Build the dictionary and replace rare words with UNK token."
   ]
  },
  {
   "cell_type": "code",
   "execution_count": 5,
   "metadata": {
    "ExecuteTime": {
     "end_time": "2018-06-09T21:41:31.608668Z",
     "start_time": "2018-06-09T21:40:29.213533Z"
    },
    "cellView": "both",
    "code_folding": [],
    "colab": {
     "autoexec": {
      "startup": false,
      "wait_interval": 0
     },
     "output_extras": [
      {
       "item_id": 1
      }
     ]
    },
    "colab_type": "code",
    "executionInfo": {
     "elapsed": 28849,
     "status": "ok",
     "timestamp": 1445964497178,
     "user": {
      "color": "#1FA15D",
      "displayName": "Vincent Vanhoucke",
      "isAnonymous": false,
      "isMe": true,
      "permissionId": "05076109866853157986",
      "photoUrl": "//lh6.googleusercontent.com/-cCJa7dTDcgQ/AAAAAAAAAAI/AAAAAAAACgw/r2EZ_8oYer4/s50-c-k-no/photo.jpg",
      "sessionId": "2f1ffade4c9f20de",
      "userId": "102167687554210253930"
     },
     "user_tz": 420
    },
    "id": "gAL1EECXeZsD",
    "init_cell": true,
    "outputId": "3fb4ecd1-df67-44b6-a2dc-2291730970b2"
   },
   "outputs": [
    {
     "data": {
      "application/vnd.jupyter.widget-view+json": {
       "model_id": "2c0cc2ad76e04d3ba2658a94dc01ee55",
       "version_major": 2,
       "version_minor": 0
      },
      "text/html": [
       "<p>Failed to display Jupyter Widget of type <code>HBox</code>.</p>\n",
       "<p>\n",
       "  If you're reading this message in the Jupyter Notebook or JupyterLab Notebook, it may mean\n",
       "  that the widgets JavaScript is still loading. If this message persists, it\n",
       "  likely means that the widgets JavaScript library is either not installed or\n",
       "  not enabled. See the <a href=\"https://ipywidgets.readthedocs.io/en/stable/user_install.html\">Jupyter\n",
       "  Widgets Documentation</a> for setup instructions.\n",
       "</p>\n",
       "<p>\n",
       "  If you're reading this message in another frontend (for example, a static\n",
       "  rendering on GitHub or <a href=\"https://nbviewer.jupyter.org/\">NBViewer</a>),\n",
       "  it may mean that your frontend doesn't currently support widgets.\n",
       "</p>\n"
      ],
      "text/plain": [
       "HBox(children=(IntProgress(value=0, max=50919413), HTML(value='')))"
      ]
     },
     "metadata": {},
     "output_type": "display_data"
    },
    {
     "name": "stdout",
     "output_type": "stream",
     "text": [
      "\n",
      "Most common words (+UNK) [['UNK', 1400263], ('the', 3046802), ('of', 1645713), ('and', 1524954), ('to', 1245800)]\n",
      "Sample data [1, 0, 840, 21, 7283, 348, 34990, 511, 10, 118]\n"
     ]
    }
   ],
   "source": [
    "vocabulary_size = 50000\n",
    "\n",
    "\n",
    "def build_dataset(words):\n",
    "    count = [['UNK', -1]]\n",
    "    count.extend(collections.Counter(words).most_common(vocabulary_size - 1))\n",
    "    dictionary = dict()\n",
    "    for word, _ in count:\n",
    "        dictionary[word] = len(dictionary)\n",
    "    data = list()\n",
    "    unk_count = 0\n",
    "\n",
    "    for word in tqdm.tqdm_notebook(words):\n",
    "        if word in dictionary:\n",
    "            data.append(dictionary[word])\n",
    "        else:\n",
    "            data.append(0)  # dictionary['UNK']\n",
    "\n",
    "            unk_count = unk_count + 1\n",
    "\n",
    "    count[0][1] = unk_count\n",
    "    reverse_dictionary = dict(zip(dictionary.values(), dictionary.keys()))\n",
    "    return data, count, dictionary, reverse_dictionary\n",
    "\n",
    "\n",
    "data, count, dictionary, reverse_dictionary = build_dataset(words)\n",
    "print('Most common words (+UNK)', count[:5])\n",
    "print('Sample data', data[:10])\n",
    "#del words  # Hint to reduce memory."
   ]
  },
  {
   "cell_type": "code",
   "execution_count": 6,
   "metadata": {
    "ExecuteTime": {
     "end_time": "2018-06-09T21:43:02.220508Z",
     "start_time": "2018-06-09T21:42:28.950Z"
    }
   },
   "outputs": [],
   "source": [
    "with open('./tf_log/metadata.tsv', 'w+') as f:\n",
    "    f.write('Word\\tFrequency\\n')\n",
    "    f.write('\\n'.join([label+'\\t'+str(occurrences) for label, occurrences in count]))"
   ]
  },
  {
   "cell_type": "code",
   "execution_count": 9,
   "metadata": {},
   "outputs": [
    {
     "name": "stdout",
     "output_type": "stream",
     "text": [
      "['THE', 'STOKESLEY', 'SECRET', 'by', 'Charlotte', 'M.', 'Yonge', 'CHAPTER', 'I.', '\"How', 'can', 'a', 'pig', 'pay', 'the', 'rent?\"', 'The', 'question', 'seemed', 'to', 'have', 'been', 'long', 'under', 'consideration,', 'to', 'judge', 'by', 'the', 'manner']\n"
     ]
    }
   ],
   "source": [
    "print(words[:30])  # The original text corpus (separated into words)"
   ]
  },
  {
   "cell_type": "code",
   "execution_count": 34,
   "metadata": {
    "code_folding": []
   },
   "outputs": [
    {
     "name": "stdout",
     "output_type": "stream",
     "text": [
      "[5234, 3081, 12, 6, 195, 2, 3134, 46, 59, 156, 128, 742, 477, 10572, 134, 1, 27350, 2, 1, 103, 855, 3, 1, 15068, 0, 2, 1, 151, 855, 3581, 1, 195, 11, 191, 59, 5, 6, 10713, 215, 7, 1325, 105, 455, 20, 59, 2732, 363, 7, 3673, 1, 709, 2, 372, 27, 41, 37, 54, 540, 98, 12, 6, 1424, 2758, 19, 568, 687, 7089, 1, 248, 5234]\n"
     ]
    }
   ],
   "source": [
    "print(\n",
    "    data[:70]\n",
    ")  # The original text corpus but words are replaced with their indices and rare words use index 0 (UNK)"
   ]
  },
  {
   "cell_type": "code",
   "execution_count": 35,
   "metadata": {},
   "outputs": [
    {
     "name": "stdout",
     "output_type": "stream",
     "text": [
      "[['UNK', 418391], ('the', 1061396), ('of', 593677), ('and', 416629), ('one', 411764), ('in', 372201), ('a', 325873), ('to', 316376), ('zero', 264975), ('nine', 250430), ('two', 192644), ('is', 183153), ('as', 131815), ('eight', 125285), ('for', 118445), ('s', 116710), ('five', 115789), ('three', 114775), ('was', 112807), ('by', 111831)]\n"
     ]
    }
   ],
   "source": [
    "print(\n",
    "    count[:20]\n",
    ")  # Tuples with the 50000 (vocabulary_size) most common words and their counts"
   ]
  },
  {
   "cell_type": "code",
   "execution_count": 36,
   "metadata": {},
   "outputs": [
    {
     "name": "stdout",
     "output_type": "stream",
     "text": [
      "[('UNK', 0), ('the', 1), ('of', 2), ('and', 3), ('one', 4), ('in', 5), ('a', 6), ('to', 7), ('zero', 8), ('nine', 9), ('two', 10), ('is', 11), ('as', 12), ('eight', 13), ('for', 14), ('s', 15), ('five', 16), ('three', 17), ('was', 18), ('by', 19), ('that', 20), ('four', 21), ('six', 22), ('seven', 23), ('with', 24)]\n"
     ]
    }
   ],
   "source": [
    "print(list(dictionary.items())[:25])  # dict with all words and their indices"
   ]
  },
  {
   "cell_type": "code",
   "execution_count": 37,
   "metadata": {},
   "outputs": [
    {
     "name": "stdout",
     "output_type": "stream",
     "text": [
      "[(0, 'UNK'), (1, 'the'), (2, 'of'), (3, 'and'), (4, 'one'), (5, 'in'), (6, 'a'), (7, 'to'), (8, 'zero'), (9, 'nine'), (10, 'two'), (11, 'is'), (12, 'as'), (13, 'eight'), (14, 'for'), (15, 's'), (16, 'five'), (17, 'three'), (18, 'was'), (19, 'by'), (20, 'that'), (21, 'four'), (22, 'six'), (23, 'seven'), (24, 'with')]\n"
     ]
    }
   ],
   "source": [
    "print(list(reverse_dictionary.items())\n",
    "      [:25])  # dict with all words and their indices (reverse lookup)"
   ]
  },
  {
   "cell_type": "markdown",
   "metadata": {
    "colab_type": "text",
    "id": "lFwoyygOmWsL"
   },
   "source": [
    "Function to generate a training batch for the skip-gram model."
   ]
  },
  {
   "cell_type": "code",
   "execution_count": 7,
   "metadata": {
    "ExecuteTime": {
     "end_time": "2018-06-09T21:03:59.870246Z",
     "start_time": "2018-06-09T21:03:59.639355Z"
    },
    "cellView": "both",
    "colab": {
     "autoexec": {
      "startup": false,
      "wait_interval": 0
     },
     "output_extras": [
      {
       "item_id": 1
      }
     ]
    },
    "colab_type": "code",
    "executionInfo": {
     "elapsed": 113,
     "status": "ok",
     "timestamp": 1445964901989,
     "user": {
      "color": "#1FA15D",
      "displayName": "Vincent Vanhoucke",
      "isAnonymous": false,
      "isMe": true,
      "permissionId": "05076109866853157986",
      "photoUrl": "//lh6.googleusercontent.com/-cCJa7dTDcgQ/AAAAAAAAAAI/AAAAAAAACgw/r2EZ_8oYer4/s50-c-k-no/photo.jpg",
      "sessionId": "2f1ffade4c9f20de",
      "userId": "102167687554210253930"
     },
     "user_tz": 420
    },
    "id": "w9APjA-zmfjV",
    "init_cell": true,
    "outputId": "67cccb02-cdaf-4e47-d489-43bcc8d57bb8",
    "scrolled": true
   },
   "outputs": [
    {
     "name": "stdout",
     "output_type": "stream",
     "text": [
      "data: ['anarchism', 'originated', 'as', 'a', 'term', 'of', 'abuse', 'first']\n",
      "\n",
      "with num_skips = 2 and skip_window = 1:\n",
      "    batch: ['originated', 'originated', 'as', 'as', 'a', 'a', 'term', 'term', 'of', 'of', 'abuse', 'abuse', 'first', 'first', 'used', 'used']\n",
      "    labels: ['anarchism', 'as', 'originated', 'a', 'as', 'term', 'a', 'of', 'abuse', 'term', 'of', 'first', 'abuse', 'used', 'first', 'against']\n",
      "[3081 3081   12   12    6    6  195  195    2    2 3134 3134   46   46\n",
      "   59   59]\n",
      "[[5234]\n",
      " [  12]\n",
      " [3081]\n",
      " [   6]\n",
      " [  12]\n",
      " [ 195]\n",
      " [   6]\n",
      " [   2]\n",
      " [3134]\n",
      " [ 195]\n",
      " [   2]\n",
      " [  46]\n",
      " [3134]\n",
      " [  59]\n",
      " [  46]\n",
      " [ 156]]\n",
      "\n",
      "with num_skips = 4 and skip_window = 2:\n",
      "    batch: ['radicals', 'radicals', 'radicals', 'radicals', 'including', 'including', 'including', 'including', 'the', 'the', 'the', 'the', 'diggers', 'diggers', 'diggers', 'diggers']\n",
      "    labels: ['the', 'including', 'working', 'class', 'diggers', 'class', 'radicals', 'the', 'diggers', 'radicals', 'including', 'of', 'including', 'the', 'the', 'of']\n",
      "[10572 10572 10572 10572   134   134   134   134     1     1     1     1\n",
      " 27350 27350 27350 27350]\n",
      "[[    1]\n",
      " [  134]\n",
      " [  742]\n",
      " [  477]\n",
      " [27350]\n",
      " [  477]\n",
      " [10572]\n",
      " [    1]\n",
      " [27350]\n",
      " [10572]\n",
      " [  134]\n",
      " [    2]\n",
      " [  134]\n",
      " [    1]\n",
      " [    1]\n",
      " [    2]]\n"
     ]
    }
   ],
   "source": [
    "data_index = 0\n",
    "\n",
    "\n",
    "def generate_batch(batch_size, num_skips, skip_window):\n",
    "    global data_index\n",
    "    assert batch_size % num_skips == 0\n",
    "    assert num_skips <= 2 * skip_window\n",
    "    batch = np.ndarray(shape=(batch_size), dtype=np.int32)\n",
    "    labels = np.ndarray(shape=(batch_size, 1), dtype=np.int32)\n",
    "    span = 2 * skip_window + 1  # [ skip_window target skip_window ]\n",
    "    buffer = collections.deque(maxlen=span)\n",
    "    for _ in range(span):\n",
    "        buffer.append(data[data_index])\n",
    "        data_index = (data_index + 1) % len(data)\n",
    "    for i in range(batch_size // num_skips):\n",
    "        target = skip_window  # target label at the center of the buffer\n",
    "        targets_to_avoid = [skip_window]\n",
    "        for j in range(num_skips):\n",
    "            while target in targets_to_avoid:\n",
    "                target = random.randint(0, span - 1)\n",
    "            targets_to_avoid.append(target)\n",
    "            batch[i * num_skips + j] = buffer[skip_window]\n",
    "            labels[i * num_skips + j, 0] = buffer[target]\n",
    "        buffer.append(data[data_index])\n",
    "        data_index = (data_index + 1) % len(data)\n",
    "    return batch, labels\n",
    "\n",
    "\n",
    "print('data:', [reverse_dictionary[di] for di in data[:8]])\n",
    "\n",
    "for num_skips, skip_window in [(2, 1), (4, 2)]:\n",
    "    #data_index = 0\n",
    "    batch, labels = generate_batch(\n",
    "        batch_size=16, num_skips=num_skips, skip_window=skip_window)\n",
    "    print('\\nwith num_skips = %d and skip_window = %d:' % (num_skips,\n",
    "                                                           skip_window))\n",
    "    print('    batch:', [reverse_dictionary[bi] for bi in batch])\n",
    "    print('    labels:', [reverse_dictionary[li] for li in labels.reshape(16)])\n",
    "    \n",
    "    print(batch)\n",
    "    print(labels)"
   ]
  },
  {
   "cell_type": "markdown",
   "metadata": {
    "colab_type": "text",
    "id": "Ofd1MbBuwiva"
   },
   "source": [
    "Train a skip-gram model."
   ]
  },
  {
   "cell_type": "code",
   "execution_count": 44,
   "metadata": {
    "ExecuteTime": {
     "end_time": "2018-06-09T21:04:13.615691Z",
     "start_time": "2018-06-09T21:04:12.572704Z"
    },
    "cellView": "both",
    "colab": {
     "autoexec": {
      "startup": false,
      "wait_interval": 0
     }
    },
    "colab_type": "code",
    "id": "8pQKsV4Vwlzy"
   },
   "outputs": [],
   "source": [
    "batch_size = 128\n",
    "embedding_size = 250  # Dimension of the embedding vector.\n",
    "skip_window = 1  # How many words to consider left and right.\n",
    "num_skips = 2  # How many times to reuse an input to generate a label.\n",
    "# We pick a random validation set to sample nearest neighbors. here we limit the\n",
    "# validation samples to the words that have a low numeric ID, which by\n",
    "# construction are also the most frequent.\n",
    "valid_size = 16  # Random set of words to evaluate similarity on.\n",
    "valid_window = 100  # Only pick dev samples in the head of the distribution.\n",
    "valid_examples = np.array(random.sample(range(valid_window), valid_size))\n",
    "num_sampled = 64  # Number of negative examples to sample.\n",
    "\n",
    "graph = tf.Graph()\n",
    "\n",
    "with graph.as_default(), tf.device('/cpu:0'):\n",
    "\n",
    "    # Input data.\n",
    "    train_dataset = tf.placeholder(tf.int32, shape=[batch_size])\n",
    "    train_labels = tf.placeholder(tf.int32, shape=[batch_size, 1])\n",
    "    valid_dataset = tf.constant(valid_examples, dtype=tf.int32)\n",
    "\n",
    "    # Variables.\n",
    "    embeddings = tf.Variable(\n",
    "        tf.random_uniform([vocabulary_size, embedding_size], -1.0, 1.0), name='word_embedding')\n",
    "    \n",
    "    softmax_weights = tf.Variable(\n",
    "        tf.truncated_normal(\n",
    "            [vocabulary_size, embedding_size],\n",
    "            stddev=1.0 / math.sqrt(embedding_size)))\n",
    "    softmax_biases = tf.Variable(tf.zeros([vocabulary_size]))\n",
    "\n",
    "    # Model.\n",
    "    # Look up embeddings for inputs.\n",
    "    embed = tf.nn.embedding_lookup(embeddings, train_dataset)\n",
    "    # Compute the softmax loss, using a sample of the negative labels each time.\n",
    "    loss = tf.reduce_mean(\n",
    "        tf.nn.sampled_softmax_loss(\n",
    "            weights=softmax_weights,\n",
    "            biases=softmax_biases,\n",
    "            inputs=embed,\n",
    "            labels=train_labels,\n",
    "            num_sampled=num_sampled,\n",
    "            num_classes=vocabulary_size))\n",
    "    \n",
    "    tf.summary.scalar('loss', loss)\n",
    "\n",
    "    # Optimizer.\n",
    "    # Note: The optimizer will optimize the softmax_weights AND the embeddings.\n",
    "    # This is because the embeddings are defined as a variable quantity and the\n",
    "    # optimizer's `minimize` method will by default modify all variable quantities\n",
    "    # that contribute to the tensor it is passed.\n",
    "    # See docs on `tf.train.Optimizer.minimize()` for more details.\n",
    "    \n",
    "    global_step = tf.Variable(0, trainable=False)\n",
    "    learning_rate = tf.train.exponential_decay(1.0, global_step,\n",
    "                                               100000, 0.96, staircase=True)\n",
    "    \n",
    "    optimizer = tf.train.AdagradOptimizer(learning_rate).minimize(loss, global_step=global_step)\n",
    "\n",
    "    # Compute the similarity between minibatch examples and all embeddings.\n",
    "    # We use the cosine distance:\n",
    "    norm = tf.sqrt(tf.reduce_sum(tf.square(embeddings), 1, keepdims=True))\n",
    "    normalized_embeddings = embeddings / norm\n",
    "    valid_embeddings = tf.nn.embedding_lookup(normalized_embeddings,\n",
    "                                              valid_dataset)\n",
    "    similarity = tf.matmul(valid_embeddings,\n",
    "                           tf.transpose(normalized_embeddings))"
   ]
  },
  {
   "cell_type": "code",
   "execution_count": 45,
   "metadata": {
    "ExecuteTime": {
     "end_time": "2018-06-09T21:11:33.709032Z",
     "start_time": "2018-06-09T21:04:19.201451Z"
    },
    "cellView": "both",
    "colab": {
     "autoexec": {
      "startup": false,
      "wait_interval": 0
     },
     "output_extras": [
      {
       "item_id": 23
      },
      {
       "item_id": 48
      },
      {
       "item_id": 61
      }
     ]
    },
    "colab_type": "code",
    "executionInfo": {
     "elapsed": 436189,
     "status": "ok",
     "timestamp": 1445965429787,
     "user": {
      "color": "#1FA15D",
      "displayName": "Vincent Vanhoucke",
      "isAnonymous": false,
      "isMe": true,
      "permissionId": "05076109866853157986",
      "photoUrl": "//lh6.googleusercontent.com/-cCJa7dTDcgQ/AAAAAAAAAAI/AAAAAAAACgw/r2EZ_8oYer4/s50-c-k-no/photo.jpg",
      "sessionId": "2f1ffade4c9f20de",
      "userId": "102167687554210253930"
     },
     "user_tz": 420
    },
    "id": "1bQFGceBxrWW",
    "outputId": "5ebd6d9a-33c6-4bcd-bf6d-252b0b6055e4"
   },
   "outputs": [
    {
     "name": "stdout",
     "output_type": "stream",
     "text": [
      "Initialized\n"
     ]
    },
    {
     "data": {
      "application/vnd.jupyter.widget-view+json": {
       "model_id": "f2d53ac40cbc4272a3ef7dbd4f536bb0",
       "version_major": 2,
       "version_minor": 0
      },
      "text/html": [
       "<p>Failed to display Jupyter Widget of type <code>HBox</code>.</p>\n",
       "<p>\n",
       "  If you're reading this message in the Jupyter Notebook or JupyterLab Notebook, it may mean\n",
       "  that the widgets JavaScript is still loading. If this message persists, it\n",
       "  likely means that the widgets JavaScript library is either not installed or\n",
       "  not enabled. See the <a href=\"https://ipywidgets.readthedocs.io/en/stable/user_install.html\">Jupyter\n",
       "  Widgets Documentation</a> for setup instructions.\n",
       "</p>\n",
       "<p>\n",
       "  If you're reading this message in another frontend (for example, a static\n",
       "  rendering on GitHub or <a href=\"https://nbviewer.jupyter.org/\">NBViewer</a>),\n",
       "  it may mean that your frontend doesn't currently support widgets.\n",
       "</p>\n"
      ],
      "text/plain": [
       "HBox(children=(IntProgress(value=0, max=150001), HTML(value='')))"
      ]
     },
     "metadata": {},
     "output_type": "display_data"
    },
    {
     "name": "stdout",
     "output_type": "stream",
     "text": [
      "Average loss at step 0: 7.371177\n",
      "Nearest to only: least,\", Jacobites, mastery, working., Tom,, tents, Vane., shrugging,\n",
      "Nearest to have: \"Gee!, sovereign, \"Poetical, handiwork, nettled, sensations., sentiment,, shrieked,\n",
      "Nearest to a: contention, Anty, secretariat, sox, appointing, duel,, 155, UNDER,\n",
      "Nearest to from: compass, postulates, dew,, jihad, nordic, hazardous, Chuck, Phantom,\n",
      "Nearest to said: chagrin, shirt., mick, renewing, Joyce,, individuals, ‘What, stein,\n",
      "Nearest to And: homes., detail., snooker, toy, rare,, arf, Charles's, incredulous,\n",
      "Nearest to eight: tip, joystick, huxley, footprint, madeira, disturbing, soldier;, olympics,\n",
      "Nearest to can: feelings., club, grove, fold,, fall,, butterfly,, alcoholism, justices,\n",
      "Nearest to so: markers, treasonable, bronx, roadside,, straightened, ois, japan, expressly,\n",
      "Nearest to could: neighbor's, despising, is,, is!, sitting, hurt?\", ransacked, jars,\n",
      "Nearest to should: treasury, proclaimed, advert, rectify, submission., publications, Nothing, Jean.,\n",
      "Nearest to upon: Fur, scientology, flown, generations, morning.', write, clambering, fellow.\",\n",
      "Nearest to or: Newgate, ball, Wee, ammunition., stirring,, Matter, condemned,, Sept.,\n",
      "Nearest to see: debatable, fbi, gemini, wot, Derby, racking, I'se, implements,\n",
      "Nearest to it: embody, consistent, fortunate,, Tappertit, photograph,, curiosities, tempted,, borrow,\n",
      "Nearest to this: recollecting, greatness., bodies,, veered, tack, Enough, knew., desiring,\n",
      "Average loss at step 2000: 4.241849\n",
      "Average loss at step 4000: 3.908556\n",
      "Average loss at step 6000: 3.606503\n",
      "Average loss at step 8000: 3.731164\n",
      "Average loss at step 10000: 3.648822\n",
      "Nearest to only: least,\", first, luigi, Jacobites, material,, monarch's, suspend, racial,\n",
      "Nearest to have: had, be, has, were, are, never, rolled,, Prince,,\n",
      "Nearest to a: the, this, \"Well!, his, no, any, their, my,\n",
      "Nearest to from: in, on, of, by, at, compass, with, Phantom,\n",
      "Nearest to said: chagrin, evolution,, graver, Marquis, Joyce,, baths, faiths, Colours,,\n",
      "Nearest to And: nature., retail, toy, Deans,, verne, notions., Dingaan, congested,\n",
      "Nearest to eight: joystick, madeira, tip, huxley, olympics, footprint, soldier;, extent,\n",
      "Nearest to can: would, will, must, could, justices, broadened, fold,, rodents,\n",
      "Nearest to so: as, treasonable, very, a, markers, drawer, Women, _so_,\n",
      "Nearest to could: will, would, jars, ransacked, may, XI, is,, might,\n",
      "Nearest to should: would, will, shall, Jean., Nothing, must, cannot, need,\n",
      "Nearest to upon: on, in, with, Fur, about, of, at, Mother's,\n",
      "Nearest to or: and, but, figures., than, hideous,, mecca, nor, of,\n",
      "Nearest to see: debatable, fbi, gemini, dew., tell, racking, Derby, heighten,\n",
      "Nearest to it: he, she, they, there, I, you, we, gotten,\n",
      "Nearest to this: the, a, his, my, that, another, its, every,\n",
      "Average loss at step 12000: 3.714974\n",
      "Average loss at step 14000: 3.504086\n",
      "Average loss at step 16000: 3.566754\n",
      "Average loss at step 18000: 3.548744\n",
      "Average loss at step 20000: 3.563614\n",
      "Nearest to only: first, least,\", \"we've, genuineness, racial, Bethune, luigi, only.,\n",
      "Nearest to have: had, be, has, are, never, were, having, blossoming,\n",
      "Nearest to a: this, the, some, A, no, any, another, so,\n",
      "Nearest to from: into, in, by, on, of, with, at, to,\n",
      "Nearest to said: mules, wrapped, pumping, anywhere., baths, shirt., philosophic, chagrin,\n",
      "Nearest to And: But, toy, retail, Deans,, verne, notions., nature., lens,\n",
      "Nearest to eight: joystick, huxley, madeira, olympics, tip, footprint, extent, soldier;,\n",
      "Nearest to can: will, could, would, must, shall, should, may, cannot,\n",
      "Nearest to so: very, too, as, more, a, there, sorrowfully, Women,\n",
      "Nearest to could: would, will, can, may, should, might, shall, must,\n",
      "Nearest to should: would, will, could, shall, may, must, might, can,\n",
      "Nearest to upon: on, in, into, at, with, against, from, by,\n",
      "Nearest to or: than, but, and, nor, and,, intermingled, goods,, Imagine,\n",
      "Nearest to see: tell, know, debatable, fbi, gemini, township, accompanied, riot,\n",
      "Nearest to it: he, she, there, I, you, they, we, this,\n",
      "Nearest to this: the, a, another, that, some, any, every, my,\n",
      "Average loss at step 22000: 3.458790\n",
      "Average loss at step 24000: 3.370932\n"
     ]
    },
    {
     "ename": "KeyboardInterrupt",
     "evalue": "",
     "output_type": "error",
     "traceback": [
      "\u001b[0;31m---------------------------------------------------------------------------\u001b[0m",
      "\u001b[0;31mKeyboardInterrupt\u001b[0m                         Traceback (most recent call last)",
      "\u001b[0;32m<ipython-input-45-a2ce7e6f00b8>\u001b[0m in \u001b[0;36m<module>\u001b[0;34m()\u001b[0m\n\u001b[1;32m     13\u001b[0m                                                   skip_window)\n\u001b[1;32m     14\u001b[0m         \u001b[0mfeed_dict\u001b[0m \u001b[0;34m=\u001b[0m \u001b[0;34m{\u001b[0m\u001b[0mtrain_dataset\u001b[0m\u001b[0;34m:\u001b[0m \u001b[0mbatch_data\u001b[0m\u001b[0;34m,\u001b[0m \u001b[0mtrain_labels\u001b[0m\u001b[0;34m:\u001b[0m \u001b[0mbatch_labels\u001b[0m\u001b[0;34m}\u001b[0m\u001b[0;34m\u001b[0m\u001b[0m\n\u001b[0;32m---> 15\u001b[0;31m         \u001b[0m_\u001b[0m\u001b[0;34m,\u001b[0m \u001b[0ml\u001b[0m\u001b[0;34m,\u001b[0m \u001b[0msummary\u001b[0m \u001b[0;34m=\u001b[0m \u001b[0msession\u001b[0m\u001b[0;34m.\u001b[0m\u001b[0mrun\u001b[0m\u001b[0;34m(\u001b[0m\u001b[0;34m[\u001b[0m\u001b[0moptimizer\u001b[0m\u001b[0;34m,\u001b[0m \u001b[0mloss\u001b[0m\u001b[0;34m,\u001b[0m \u001b[0mmerged\u001b[0m\u001b[0;34m]\u001b[0m\u001b[0;34m,\u001b[0m \u001b[0mfeed_dict\u001b[0m\u001b[0;34m=\u001b[0m\u001b[0mfeed_dict\u001b[0m\u001b[0;34m)\u001b[0m\u001b[0;34m\u001b[0m\u001b[0m\n\u001b[0m\u001b[1;32m     16\u001b[0m         \u001b[0mwriter\u001b[0m\u001b[0;34m.\u001b[0m\u001b[0madd_summary\u001b[0m\u001b[0;34m(\u001b[0m\u001b[0msummary\u001b[0m\u001b[0;34m,\u001b[0m \u001b[0mstep\u001b[0m\u001b[0;34m)\u001b[0m\u001b[0;34m\u001b[0m\u001b[0m\n\u001b[1;32m     17\u001b[0m         \u001b[0maverage_loss\u001b[0m \u001b[0;34m+=\u001b[0m \u001b[0ml\u001b[0m\u001b[0;34m\u001b[0m\u001b[0m\n",
      "\u001b[0;32m~/anaconda3/lib/python3.6/site-packages/tensorflow/python/client/session.py\u001b[0m in \u001b[0;36mrun\u001b[0;34m(self, fetches, feed_dict, options, run_metadata)\u001b[0m\n\u001b[1;32m    898\u001b[0m     \u001b[0;32mtry\u001b[0m\u001b[0;34m:\u001b[0m\u001b[0;34m\u001b[0m\u001b[0m\n\u001b[1;32m    899\u001b[0m       result = self._run(None, fetches, feed_dict, options_ptr,\n\u001b[0;32m--> 900\u001b[0;31m                          run_metadata_ptr)\n\u001b[0m\u001b[1;32m    901\u001b[0m       \u001b[0;32mif\u001b[0m \u001b[0mrun_metadata\u001b[0m\u001b[0;34m:\u001b[0m\u001b[0;34m\u001b[0m\u001b[0m\n\u001b[1;32m    902\u001b[0m         \u001b[0mproto_data\u001b[0m \u001b[0;34m=\u001b[0m \u001b[0mtf_session\u001b[0m\u001b[0;34m.\u001b[0m\u001b[0mTF_GetBuffer\u001b[0m\u001b[0;34m(\u001b[0m\u001b[0mrun_metadata_ptr\u001b[0m\u001b[0;34m)\u001b[0m\u001b[0;34m\u001b[0m\u001b[0m\n",
      "\u001b[0;32m~/anaconda3/lib/python3.6/site-packages/tensorflow/python/client/session.py\u001b[0m in \u001b[0;36m_run\u001b[0;34m(self, handle, fetches, feed_dict, options, run_metadata)\u001b[0m\n\u001b[1;32m   1105\u001b[0m \u001b[0;34m\u001b[0m\u001b[0m\n\u001b[1;32m   1106\u001b[0m           if (not is_tensor_handle_feed and\n\u001b[0;32m-> 1107\u001b[0;31m               not subfeed_t.get_shape().is_compatible_with(np_val.shape)):\n\u001b[0m\u001b[1;32m   1108\u001b[0m             raise ValueError('Cannot feed value of shape %r for Tensor %r, '\n\u001b[1;32m   1109\u001b[0m                              \u001b[0;34m'which has shape %r'\u001b[0m \u001b[0;34m%\u001b[0m\u001b[0;34m\u001b[0m\u001b[0m\n",
      "\u001b[0;32m~/anaconda3/lib/python3.6/site-packages/tensorflow/python/framework/ops.py\u001b[0m in \u001b[0;36mget_shape\u001b[0;34m(self)\u001b[0m\n\u001b[1;32m    472\u001b[0m   \u001b[0;32mdef\u001b[0m \u001b[0mget_shape\u001b[0m\u001b[0;34m(\u001b[0m\u001b[0mself\u001b[0m\u001b[0;34m)\u001b[0m\u001b[0;34m:\u001b[0m\u001b[0;34m\u001b[0m\u001b[0m\n\u001b[1;32m    473\u001b[0m     \u001b[0;34m\"\"\"Alias of Tensor.shape.\"\"\"\u001b[0m\u001b[0;34m\u001b[0m\u001b[0m\n\u001b[0;32m--> 474\u001b[0;31m     \u001b[0;32mreturn\u001b[0m \u001b[0mself\u001b[0m\u001b[0;34m.\u001b[0m\u001b[0mshape\u001b[0m\u001b[0;34m\u001b[0m\u001b[0m\n\u001b[0m\u001b[1;32m    475\u001b[0m \u001b[0;34m\u001b[0m\u001b[0m\n\u001b[1;32m    476\u001b[0m   \u001b[0;32mdef\u001b[0m \u001b[0mset_shape\u001b[0m\u001b[0;34m(\u001b[0m\u001b[0mself\u001b[0m\u001b[0;34m,\u001b[0m \u001b[0mshape\u001b[0m\u001b[0;34m)\u001b[0m\u001b[0;34m:\u001b[0m\u001b[0;34m\u001b[0m\u001b[0m\n",
      "\u001b[0;32m~/anaconda3/lib/python3.6/site-packages/tensorflow/python/framework/ops.py\u001b[0m in \u001b[0;36mshape\u001b[0;34m(self)\u001b[0m\n\u001b[1;32m    340\u001b[0m     \u001b[0;32mreturn\u001b[0m \u001b[0mself\u001b[0m\u001b[0;34m.\u001b[0m\u001b[0m_op\u001b[0m\u001b[0;34m.\u001b[0m\u001b[0mdevice\u001b[0m\u001b[0;34m\u001b[0m\u001b[0m\n\u001b[1;32m    341\u001b[0m \u001b[0;34m\u001b[0m\u001b[0m\n\u001b[0;32m--> 342\u001b[0;31m   \u001b[0;34m@\u001b[0m\u001b[0mproperty\u001b[0m\u001b[0;34m\u001b[0m\u001b[0m\n\u001b[0m\u001b[1;32m    343\u001b[0m   \u001b[0;32mdef\u001b[0m \u001b[0mshape\u001b[0m\u001b[0;34m(\u001b[0m\u001b[0mself\u001b[0m\u001b[0;34m)\u001b[0m\u001b[0;34m:\u001b[0m\u001b[0;34m\u001b[0m\u001b[0m\n\u001b[1;32m    344\u001b[0m     \"\"\"Returns the `TensorShape` that represents the shape of this tensor.\n",
      "\u001b[0;31mKeyboardInterrupt\u001b[0m: "
     ]
    }
   ],
   "source": [
    "num_steps = 150001\n",
    "\n",
    "with tf.Session(graph=graph) as session:\n",
    "    saver = tf.train.Saver()\n",
    "    writer = tf.summary.FileWriter(\n",
    "        './tf_log/' + datetime.datetime.now().strftime('%H:%M:%S'), session.graph)\n",
    "    merged = tf.summary.merge_all()\n",
    "    tf.global_variables_initializer().run()\n",
    "    print('Initialized')\n",
    "    average_loss = 0\n",
    "    for step in tqdm.tqdm_notebook(range(num_steps)):\n",
    "        batch_data, batch_labels = generate_batch(batch_size, num_skips,\n",
    "                                                  skip_window)\n",
    "        feed_dict = {train_dataset: batch_data, train_labels: batch_labels}\n",
    "        _, l, summary = session.run([optimizer, loss, merged], feed_dict=feed_dict)\n",
    "        writer.add_summary(summary, step)\n",
    "        average_loss += l\n",
    "        if step % 2000 == 0:\n",
    "            if step > 0:\n",
    "                average_loss = average_loss / 2000\n",
    "            # The average loss is an estimate of the loss over the last 2000 batches.\n",
    "            print('Average loss at step %d: %f' % (step, average_loss))\n",
    "            average_loss = 0\n",
    "        # note that this is expensive (~20% slowdown if computed every 500 steps)\n",
    "        if step % 10000 == 0:\n",
    "            sim = similarity.eval()\n",
    "            for i in range(valid_size):\n",
    "                valid_word = reverse_dictionary[valid_examples[i]]\n",
    "                top_k = 8  # number of nearest neighbors\n",
    "                nearest = (-sim[i, :]).argsort()[1:top_k + 1]\n",
    "                log = 'Nearest to %s:' % valid_word\n",
    "                for k in range(top_k):\n",
    "                    close_word = reverse_dictionary[nearest[k]]\n",
    "                    log = '%s %s,' % (log, close_word)\n",
    "                print(log)\n",
    "            saver.save(session, os.path.join('./tf_log/', \"model.ckpt\"), step)\n",
    "    final_embeddings = normalized_embeddings.eval()"
   ]
  },
  {
   "cell_type": "code",
   "execution_count": null,
   "metadata": {
    "ExecuteTime": {
     "end_time": "2018-06-09T19:52:16.632261Z",
     "start_time": "2018-06-09T19:48:04.551327Z"
    },
    "cellView": "both",
    "colab": {
     "autoexec": {
      "startup": false,
      "wait_interval": 0
     }
    },
    "colab_type": "code",
    "id": "jjJXYA_XzV79"
   },
   "outputs": [],
   "source": [
    "num_points = 1500\n",
    "\n",
    "tsne = TSNE(\n",
    "    perplexity=30, n_components=2, init='pca', n_iter=5000, method='exact')\n",
    "two_d_embeddings = tsne.fit_transform(final_embeddings[1:num_points + 1, :])"
   ]
  },
  {
   "cell_type": "code",
   "execution_count": null,
   "metadata": {
    "ExecuteTime": {
     "end_time": "2018-06-09T19:52:24.226644Z",
     "start_time": "2018-06-09T19:52:19.128769Z"
    },
    "cellView": "both",
    "colab": {
     "autoexec": {
      "startup": false,
      "wait_interval": 0
     },
     "output_extras": [
      {
       "item_id": 1
      }
     ]
    },
    "colab_type": "code",
    "executionInfo": {
     "elapsed": 4763,
     "status": "ok",
     "timestamp": 1445965465525,
     "user": {
      "color": "#1FA15D",
      "displayName": "Vincent Vanhoucke",
      "isAnonymous": false,
      "isMe": true,
      "permissionId": "05076109866853157986",
      "photoUrl": "//lh6.googleusercontent.com/-cCJa7dTDcgQ/AAAAAAAAAAI/AAAAAAAACgw/r2EZ_8oYer4/s50-c-k-no/photo.jpg",
      "sessionId": "2f1ffade4c9f20de",
      "userId": "102167687554210253930"
     },
     "user_tz": 420
    },
    "id": "o_e0D_UezcDe",
    "outputId": "df22e4a5-e8ec-4e5e-d384-c6cf37c68c34"
   },
   "outputs": [],
   "source": [
    "def plot(embeddings, labels):\n",
    "    assert embeddings.shape[0] >= len(labels), 'More labels than embeddings'\n",
    "    pylab.figure(figsize=(15, 15))  # in inches\n",
    "    for i, label in enumerate(labels):\n",
    "        x, y = embeddings[i, :]\n",
    "        pylab.scatter(x, y)\n",
    "        pylab.annotate(\n",
    "            label,\n",
    "            xy=(x, y),\n",
    "            xytext=(5, 2),\n",
    "            textcoords='offset points',\n",
    "            ha='right',\n",
    "            va='bottom')\n",
    "    pylab.show()\n",
    "\n",
    "\n",
    "words = [reverse_dictionary[i] for i in range(1, num_points + 1)]\n",
    "plot(two_d_embeddings, words)"
   ]
  },
  {
   "cell_type": "markdown",
   "metadata": {
    "colab_type": "text",
    "id": "QB5EFrBnpNnc"
   },
   "source": [
    "---\n",
    "\n",
    "Problem\n",
    "-------\n",
    "\n",
    "An alternative to skip-gram is another Word2Vec model called [CBOW](http://arxiv.org/abs/1301.3781) (Continuous Bag of Words). In the CBOW model, instead of predicting a context word from a word vector, you predict a word from the sum of all the word vectors in its context. Implement and evaluate a CBOW model trained on the text8 dataset.\n",
    "\n",
    "---"
   ]
  },
  {
   "cell_type": "code",
   "execution_count": 7,
   "metadata": {
    "ExecuteTime": {
     "end_time": "2018-06-09T21:03:59.870246Z",
     "start_time": "2018-06-09T21:03:59.639355Z"
    },
    "cellView": "both",
    "colab": {
     "autoexec": {
      "startup": false,
      "wait_interval": 0
     },
     "output_extras": [
      {
       "item_id": 1
      }
     ]
    },
    "colab_type": "code",
    "executionInfo": {
     "elapsed": 113,
     "status": "ok",
     "timestamp": 1445964901989,
     "user": {
      "color": "#1FA15D",
      "displayName": "Vincent Vanhoucke",
      "isAnonymous": false,
      "isMe": true,
      "permissionId": "05076109866853157986",
      "photoUrl": "//lh6.googleusercontent.com/-cCJa7dTDcgQ/AAAAAAAAAAI/AAAAAAAACgw/r2EZ_8oYer4/s50-c-k-no/photo.jpg",
      "sessionId": "2f1ffade4c9f20de",
      "userId": "102167687554210253930"
     },
     "user_tz": 420
    },
    "id": "w9APjA-zmfjV",
    "init_cell": true,
    "outputId": "67cccb02-cdaf-4e47-d489-43bcc8d57bb8",
    "scrolled": true
   },
   "outputs": [
    {
     "name": "stdout",
     "output_type": "stream",
     "text": [
      "data: ['the', 'UNK', 'secret', 'by', 'charlotte', 'm', 'yonge', 'chapter', 'i', 'how', 'can', 'a']\n",
      "\n",
      "[['the', 'UNK', 'by', 'charlotte']]\n",
      "['secret']\n",
      "\n",
      "[['UNK', 'secret', 'charlotte', 'm']]\n",
      "['by']\n",
      "\n",
      "[['secret', 'by', 'm', 'yonge']]\n",
      "['charlotte']\n",
      "\n",
      "[['by', 'charlotte', 'yonge', 'chapter']]\n",
      "['m']\n"
     ]
    }
   ],
   "source": [
    "data_index = 2\n",
    "\n",
    "\n",
    "def generate_cbow_batch(batch_size):\n",
    "    global data_index\n",
    "    batch = np.ndarray(shape=(batch_size, 4), dtype=np.int32)\n",
    "    labels = np.ndarray(shape=(batch_size, 1), dtype=np.int32)\n",
    "\n",
    "    batch_index = 0\n",
    "    while batch_index < batch_size:\n",
    "        try:\n",
    "            batch[batch_index][0] = data[data_index - 2]\n",
    "            batch[batch_index][1] = data[data_index - 1]\n",
    "            labels[batch_index][0] = data[data_index]\n",
    "            batch[batch_index][2] = data[data_index + 1]\n",
    "            batch[batch_index][3] = data[data_index + 2]\n",
    "            batch_index += 1\n",
    "            data_index = (data_index + 1) % len(data)\n",
    "        except IndexError:\n",
    "            pass\n",
    "\n",
    "    return batch, labels\n",
    "\n",
    "\n",
    "print('data:', [reverse_dictionary[di] for di in data[data_index-2:data_index+10]])\n",
    "\n",
    "for v in range(4):\n",
    "\n",
    "    batch, labels = generate_cbow_batch(batch_size=1)\n",
    "    print()\n",
    "    print([[reverse_dictionary[y] for y in x] for x in batch])\n",
    "    print([reverse_dictionary[x[0]] for x in labels])\n",
    "    \n",
    "\n",
    "    #print('    batch:', [reverse_dictionary[bi] for bi in batch])\n",
    "    #print('    labels:', [reverse_dictionary[li] for li in labels.reshape(16)])\n",
    "\n",
    "    #print(batch)\n",
    "    #print(labels)"
   ]
  },
  {
   "cell_type": "code",
   "execution_count": 10,
   "metadata": {
    "ExecuteTime": {
     "end_time": "2018-06-09T21:04:13.615691Z",
     "start_time": "2018-06-09T21:04:12.572704Z"
    },
    "cellView": "both",
    "colab": {
     "autoexec": {
      "startup": false,
      "wait_interval": 0
     }
    },
    "colab_type": "code",
    "id": "8pQKsV4Vwlzy"
   },
   "outputs": [],
   "source": [
    "batch_size = 128\n",
    "embedding_size = 128  # Dimension of the embedding vector.\n",
    "# We pick a random validation set to sample nearest neighbors. here we limit the\n",
    "# validation samples to the words that have a low numeric ID, which by\n",
    "# construction are also the most frequent.\n",
    "valid_size = 16  # Random set of words to evaluate similarity on.\n",
    "valid_window = 100  # Only pick dev samples in the head of the distribution.\n",
    "valid_examples = np.array(random.sample(range(valid_window), valid_size))\n",
    "num_sampled = 64  # Number of negative examples to sample.\n",
    "\n",
    "graph = tf.Graph()\n",
    "\n",
    "with graph.as_default(), tf.device('/cpu:0'):\n",
    "\n",
    "    # Input data.\n",
    "    train_dataset = tf.placeholder(tf.int32, shape=[batch_size, 4])\n",
    "    train_labels = tf.placeholder(tf.int32, shape=[batch_size, 1])\n",
    "    valid_dataset = tf.constant(valid_examples, dtype=tf.int32)\n",
    "\n",
    "    # Variables.\n",
    "    embeddings = tf.Variable(\n",
    "        tf.random_uniform([vocabulary_size, embedding_size], -1.0, 1.0), name='word_embedding')\n",
    "    \n",
    "    \n",
    "    softmax_weights = tf.Variable(\n",
    "        tf.truncated_normal(\n",
    "            [vocabulary_size, embedding_size],\n",
    "            stddev=1.0 / math.sqrt(embedding_size)))\n",
    "    softmax_biases = tf.Variable(tf.zeros([vocabulary_size]))\n",
    "\n",
    "    # Model.\n",
    "    # Look up embeddings for inputs.\n",
    "    embed_lookup = tf.nn.embedding_lookup(embeddings, train_dataset)\n",
    "    \n",
    "    bow_vector = tf.reduce_sum(embed_lookup, axis=1)\n",
    "    # Compute the softmax loss, using a sample of the negative labels each time.\n",
    "    loss = tf.reduce_mean(\n",
    "        tf.nn.sampled_softmax_loss(\n",
    "            weights=softmax_weights,\n",
    "            biases=softmax_biases,\n",
    "            inputs=bow_vector,\n",
    "            labels=train_labels,\n",
    "            num_sampled=num_sampled,\n",
    "            num_classes=vocabulary_size))\n",
    "    \n",
    "    tf.summary.scalar('loss', loss)\n",
    "\n",
    "    # Optimizer.\n",
    "    # Note: The optimizer will optimize the softmax_weights AND the embeddings.\n",
    "    # This is because the embeddings are defined as a variable quantity and the\n",
    "    # optimizer's `minimize` method will by default modify all variable quantities\n",
    "    # that contribute to the tensor it is passed.\n",
    "    # See docs on `tf.train.Optimizer.minimize()` for more details.\n",
    "    \n",
    "    global_step = tf.Variable(0, trainable=False)\n",
    "    learning_rate = tf.train.exponential_decay(1.0, global_step,\n",
    "                                               100000, 0.932, staircase=True)\n",
    "    \n",
    "    optimizer = tf.train.AdagradOptimizer(learning_rate).minimize(loss, global_step=global_step)\n",
    "\n",
    "    # Compute the similarity between minibatch examples and all embeddings.\n",
    "    # We use the cosine distance:\n",
    "    norm = tf.sqrt(tf.reduce_sum(tf.square(embeddings), 1, keepdims=True))\n",
    "    normalized_embeddings = embeddings / norm\n",
    "    valid_embeddings = tf.nn.embedding_lookup(normalized_embeddings,\n",
    "                                              valid_dataset)\n",
    "    similarity = tf.matmul(valid_embeddings,\n",
    "                           tf.transpose(normalized_embeddings))"
   ]
  },
  {
   "cell_type": "code",
   "execution_count": 11,
   "metadata": {
    "ExecuteTime": {
     "end_time": "2018-06-09T21:11:33.709032Z",
     "start_time": "2018-06-09T21:04:19.201451Z"
    },
    "cellView": "both",
    "colab": {
     "autoexec": {
      "startup": false,
      "wait_interval": 0
     },
     "output_extras": [
      {
       "item_id": 23
      },
      {
       "item_id": 48
      },
      {
       "item_id": 61
      }
     ]
    },
    "colab_type": "code",
    "executionInfo": {
     "elapsed": 436189,
     "status": "ok",
     "timestamp": 1445965429787,
     "user": {
      "color": "#1FA15D",
      "displayName": "Vincent Vanhoucke",
      "isAnonymous": false,
      "isMe": true,
      "permissionId": "05076109866853157986",
      "photoUrl": "//lh6.googleusercontent.com/-cCJa7dTDcgQ/AAAAAAAAAAI/AAAAAAAACgw/r2EZ_8oYer4/s50-c-k-no/photo.jpg",
      "sessionId": "2f1ffade4c9f20de",
      "userId": "102167687554210253930"
     },
     "user_tz": 420
    },
    "id": "1bQFGceBxrWW",
    "outputId": "5ebd6d9a-33c6-4bcd-bf6d-252b0b6055e4"
   },
   "outputs": [
    {
     "name": "stdout",
     "output_type": "stream",
     "text": [
      "Initialized\n"
     ]
    },
    {
     "data": {
      "application/vnd.jupyter.widget-view+json": {
       "model_id": "d48c0c5959d44737b0b51bb47b96d83f",
       "version_major": 2,
       "version_minor": 0
      },
      "text/html": [
       "<p>Failed to display Jupyter Widget of type <code>HBox</code>.</p>\n",
       "<p>\n",
       "  If you're reading this message in the Jupyter Notebook or JupyterLab Notebook, it may mean\n",
       "  that the widgets JavaScript is still loading. If this message persists, it\n",
       "  likely means that the widgets JavaScript library is either not installed or\n",
       "  not enabled. See the <a href=\"https://ipywidgets.readthedocs.io/en/stable/user_install.html\">Jupyter\n",
       "  Widgets Documentation</a> for setup instructions.\n",
       "</p>\n",
       "<p>\n",
       "  If you're reading this message in another frontend (for example, a static\n",
       "  rendering on GitHub or <a href=\"https://nbviewer.jupyter.org/\">NBViewer</a>),\n",
       "  it may mean that your frontend doesn't currently support widgets.\n",
       "</p>\n"
      ],
      "text/plain": [
       "HBox(children=(IntProgress(value=0, max=100001), HTML(value='')))"
      ]
     },
     "metadata": {},
     "output_type": "display_data"
    },
    {
     "name": "stdout",
     "output_type": "stream",
     "text": [
      "Average loss at step 0: 8.105158\n",
      "Nearest to four: myrrh, warningly, experiencing, sampled, bulging, algardi, syrian, creaking,\n",
      "Nearest to six: potato, gand, swim, whiles, umm, endeavoured, aorta, trustworthy,\n",
      "Nearest to up: callum, stanley, magrath, jesse, configurations, tyee, tubes, blinked,\n",
      "Nearest to there: westwood, garnet, imaginable, saddle, entrepreneurial, stirling, subside, style,\n",
      "Nearest to did: heme, cora, bees, bhp, unrestrained, legislation, alkanes, smith's,\n",
      "Nearest to they: cynics, prominently, tugging, morgan's, hounded, synonyms, pleasantry, pollux,\n",
      "Nearest to well: aunty, arbitrator, deformed, arbour, est, sparta, diagnosis, soundness,\n",
      "Nearest to not: balmoral, hackit, coiffure, nineties, mannered, a:, swell, prosper,\n",
      "Nearest to that: discrete, fault, defender, waz-don, creationism, momentary, supposedly, betsey,\n",
      "Nearest to all: babur, toed, distinctness, absolution, goal, madness, laurels, dictation,\n",
      "Nearest to would: incarcerated, embattled, scouring, redolent, leopards, heaven:, snoop, pesach,\n",
      "Nearest to these: obergatz, nicephorus, sell, resented, ruins, batter, sticking, meanings,\n",
      "Nearest to when: councillor, distanced, zohar, fronds, tipperary, bred, callisto, you--for,\n",
      "Nearest to will: hornblower, harangues, landlord, logarithmic, pierced, intrude, pretexts, steamer's,\n",
      "Nearest to UNK: rose's, harrowing, larp, chamois, brother, 1917, 293, interstices,\n",
      "Nearest to had: alba, banners, rowan, cornerstone, 'if, univ, tethered, life--the,\n",
      "Average loss at step 5000: 9.717108\n",
      "Average loss at step 10000: 8.493676\n",
      "Nearest to four: two, sampled, myrrh, bulging, embarking, stripped, piteous, accompaniments,\n",
      "Nearest to six: potato, whiles, three, re-established, aorta, gand, wanderer, john's,\n",
      "Nearest to up: out, off, down, back, silently, rejoice, facade, into,\n",
      "Nearest to there: decisively, here, now, it, manifest, avant, father's, soudan,\n",
      "Nearest to did: could, do, would, will, should, can, does, don't,\n",
      "Nearest to they: we, you, i, he, she, emigrants, orderly, timber,\n",
      "Nearest to well: soon, aunty, cushitic, jealous, punic, est, stargate, liz,\n",
      "Nearest to not: nationalism, never, overload, loins, burgh, factual, landowner, monkey,\n",
      "Nearest to that: which, what, when, yearned, whether, how, contracted, ainslie,\n",
      "Nearest to all: studded, offshore, working, italians, pk, property, tincture, wits,\n",
      "Nearest to would: will, might, could, should, may, must, can, did,\n",
      "Nearest to these: those, qadhafi, coverts, many, strangeness, our, spaniard, some,\n",
      "Nearest to when: before, if, where, what, how, that, camping, then,\n",
      "Nearest to will: would, may, can, must, might, should, could, shall,\n",
      "Nearest to UNK: sidereal, de, 't, dolphin, squat, operate, calumnies, mestre,\n",
      "Nearest to had: has, have, having, sprigs, 'if, drilled, saw, was,\n",
      "Average loss at step 15000: 8.530315\n",
      "Average loss at step 20000: 7.917589\n",
      "Nearest to four: two, three, few, sampled, bulging, six, forty, five,\n",
      "Nearest to six: three, potato, aorta, wanderer, whiles, four, gand, five,\n",
      "Nearest to up: down, off, back, over, out, away, along, husbands,\n",
      "Nearest to there: it, decisively, pollock, 'he, virus, boxall, avant, disposing,\n",
      "Nearest to did: does, could, do, will, should, would, shall, must,\n",
      "Nearest to they: we, he, you, she, i, ye, unbelief, hap,\n",
      "Nearest to well: soon, much, far, alumnus, cahiers, often, fellers, long,\n",
      "Nearest to not: never, explicable, managerial, sacramento, buren, synonymous, sweated, inconsequent,\n",
      "Nearest to that: what, which, fittings, restrained, why, when, scythes, this,\n",
      "Nearest to all: studded, nuptial, saga, nightmares, least, strait, adele, working,\n",
      "Nearest to would: might, should, will, must, may, could, shall, can,\n",
      "Nearest to these: those, three, several, other, the, many, coverts, such,\n",
      "Nearest to when: before, since, till, if, until, camping, where, how,\n",
      "Nearest to will: must, may, would, shall, might, can, should, could,\n",
      "Nearest to UNK: 31st, huaracha, farc, sanctioning, unerringly, midst, hospitably, calumnies,\n",
      "Nearest to had: has, having, have, was, i've, hadn't, i’ve, were,\n",
      "Average loss at step 25000: 7.716704\n",
      "Average loss at step 30000: 7.674636\n",
      "Nearest to four: two, three, several, thirty, five, six, sampled, seven,\n",
      "Nearest to six: three, several, two, five, fifteen, eight, ten, four,\n",
      "Nearest to up: off, along, down, back, away, over, mu, across,\n",
      "Nearest to there: it, here, longer, pollock, avant, andalusia, selim, they,\n",
      "Nearest to did: does, could, would, will, do, shall, should, may,\n",
      "Nearest to they: we, he, she, you, i, ovid, familiarly, there,\n",
      "Nearest to well: soon, far, much, fogs, fast, willin', though, rune,\n",
      "Nearest to not: never, hardly, specimen, landowner, pla, descriptor, gobbled, managerial,\n",
      "Nearest to that: which, this, what, where, fittings, how, socially, merril's,\n",
      "Nearest to all: forbes, both, dire, everything, studded, offshore, analyst, publishing,\n",
      "Nearest to would: should, might, will, may, must, could, did, shall,\n",
      "Nearest to these: those, several, many, qadhafi, coverts, other, trotsky, disarranged,\n",
      "Nearest to when: before, since, till, then, until, where, camping, how,\n",
      "Nearest to will: may, must, would, shall, can, might, should, won't,\n",
      "Nearest to UNK: e, se, superficial, gli, 1914, che, fiercest, cypher,\n",
      "Nearest to had: has, have, having, i've, hadn't, haven't, was, i’ve,\n",
      "Average loss at step 35000: 7.894490\n",
      "Average loss at step 40000: 6.880652\n",
      "Nearest to four: two, three, six, ten, several, seven, five, thirty,\n",
      "Nearest to six: ten, four, twelve, eight, five, three, priestly, seven,\n",
      "Nearest to up: away, back, off, along, down, across, out, over,\n",
      "Nearest to there: decisively, it, pollock, selecting, silent, peshawar, longer, navy-yard,\n",
      "Nearest to did: does, could, do, would, will, don't, should, might,\n",
      "Nearest to they: we, you, she, he, 9:, i, familiarly, ivan,\n",
      "Nearest to well: soon, far, often, encroach, lothrop, nearly, fogs, cahiers,\n",
      "Nearest to not: never, encircled, extremest, descriptor, nothing, vermissa, hardly, uncompressed,\n",
      "Nearest to that: oscillators, merovingian, pledged, vendetta, ramsgate, revels, lehmann, hindoos,\n",
      "Nearest to all: both, several, said--and, ldots, many, nuptial, offences, hatfield,\n",
      "Nearest to would: might, will, should, must, may, could, shall, can't,\n",
      "Nearest to these: those, such, several, few, pompey, various, bystander, atreus,\n",
      "Nearest to when: while, where, before, till, never, which, until, because,\n",
      "Nearest to will: must, would, may, might, shall, should, could, can't,\n",
      "Nearest to UNK: strip, flatteries, ada, ennobling, pavel, wrong, outsourcing, came:,\n",
      "Nearest to had: has, have, having, was, hadn't, could, saw, haven't,\n",
      "Average loss at step 45000: 7.556933\n",
      "Average loss at step 50000: 7.555493\n",
      "Nearest to four: two, six, three, ten, several, seven, five, eight,\n",
      "Nearest to six: four, ten, three, eight, five, seven, fifteen, twelve,\n",
      "Nearest to up: along, off, away, back, down, forward, over, out,\n",
      "Nearest to there: it, here, decisively, pollock, silent, allowed, longer, there's,\n",
      "Nearest to did: does, could, will, would, should, do, may, didn't,\n",
      "Nearest to they: we, you, he, she, i, anjou, dane, beryl,\n",
      "Nearest to well: soon, fast, much, cahiers, best, just, though, wychecombe,\n",
      "Nearest to not: never, hardly, really, scarcely, sacramento, sometimes, chimerical, guise,\n",
      "Nearest to that: because, what, which, where, whom, ramsgate, when, snubbed,\n",
      "Nearest to all: nuptial, both, kampf, forbes, jos, studded, shipyards, everything,\n",
      "Nearest to would: will, might, may, must, should, shall, wouldn't, could,\n",
      "Nearest to these: those, infections, various, disarranged, the, them, coverts, qadhafi,\n",
      "Nearest to when: till, because, before, until, since, where, camping, if,\n",
      "Nearest to will: would, shall, may, must, should, might, can, won't,\n",
      "Nearest to UNK: deux, skiing, mishnah, taxed, assisi, coffee, womanish, fig,\n",
      "Nearest to had: has, having, have, hadn't, was, haven't, knew, could,\n",
      "Average loss at step 55000: 7.730890\n",
      "Average loss at step 60000: 7.399769\n",
      "Nearest to four: two, three, six, several, twenty, five, eight, forty,\n",
      "Nearest to six: four, three, eight, ten, twelve, seven, several, five,\n",
      "Nearest to up: down, back, off, out, embodying, along, bustling, across,\n",
      "Nearest to there: it, pollock, longer, decisively, here, born, avant, 'it,\n",
      "Nearest to did: does, could, should, do, would, will, didn't, don't,\n",
      "Nearest to they: we, you, he, i, she, absurdum, people, others,\n",
      "Nearest to well: soon, fast, just, cahiers, best, encroach, worthily, achievable,\n",
      "Nearest to not: never, hardly, sacramento, scarce, nothing, inquisitive, scarcely, managerial,\n",
      "Nearest to that: which, because, how, what, oscillators, wick, snubbed, merovingian,\n",
      "Nearest to all: both, everything, brooded, various, worst, hatfield, greatest, nightmares,\n",
      "Nearest to would: will, may, might, must, should, could, won't, can,\n",
      "Nearest to these: those, such, qadhafi, various, several, their, coverts, the,\n",
      "Nearest to when: till, until, if, since, because, before, though, already,\n",
      "Nearest to will: would, must, may, shall, can, should, might, i'll,\n",
      "Nearest to UNK: loo, pined, ronda, ada, cahiers, scapegoat, locator, ennobling,\n",
      "Nearest to had: has, have, having, i've, was, hadn't, hath, could,\n"
     ]
    },
    {
     "name": "stdout",
     "output_type": "stream",
     "text": [
      "Average loss at step 65000: 6.975465\n",
      "Average loss at step 70000: 7.475056\n",
      "Nearest to four: two, three, six, several, ten, five, twenty, thirty,\n",
      "Nearest to six: four, eight, ten, twelve, three, five, several, twenty,\n",
      "Nearest to up: forward, off, down, away, back, along, carvil, around,\n",
      "Nearest to there: longer, here, it, pollock, silent, there's, banff, born,\n",
      "Nearest to did: does, could, do, didn't, will, would, should, shall,\n",
      "Nearest to they: we, you, i, she, he, 'you, even, people,\n",
      "Nearest to well: soon, fast, just, cahiers, much, fellers, often, punic,\n",
      "Nearest to not: never, hardly, encircled, scarcely, also, always, indeed, romano,\n",
      "Nearest to that: which, because, ainslie, what, where, cute, this, disruptive,\n",
      "Nearest to all: both, studded, delusive, forbes, various, nuptial, everything, whilk,\n",
      "Nearest to would: might, will, may, must, should, could, i'll, shall,\n",
      "Nearest to these: those, qadhafi, coverts, such, several, sorts, hundred, disarranged,\n",
      "Nearest to when: till, until, before, because, if, never, unless, ere,\n",
      "Nearest to will: would, may, shall, might, must, can't, won't, can,\n",
      "Nearest to UNK: revered, hex, corps, remarked:, quaintly, barometer, 1, october,\n",
      "Nearest to had: has, have, having, hadn't, hath, i've, haven't, you've,\n",
      "Average loss at step 75000: 7.140861\n",
      "Average loss at step 80000: 7.106865\n",
      "Nearest to four: two, three, six, ten, several, five, twenty, thirty,\n",
      "Nearest to six: four, eight, three, ten, twelve, seven, twenty, several,\n",
      "Nearest to up: down, back, forward, along, off, forth, out, stanley,\n",
      "Nearest to there: it, longer, silent, there's, airfoil, pollock, here, andalusia,\n",
      "Nearest to did: does, could, will, would, didn't, should, shall, do,\n",
      "Nearest to they: we, she, he, you, i, 'you, travellers, gorman,\n",
      "Nearest to well: soon, much, fast, far, just, high, cahiers, easily,\n",
      "Nearest to not: never, hardly, also, scarcely, really, always, foundling, encircled,\n",
      "Nearest to that: which, what, cute, when, commencing, because, 'i, kelvin,\n",
      "Nearest to all: alfonso, both, various, leggings, brethren, oman, forgives, studded,\n",
      "Nearest to would: might, will, should, must, may, could, wouldn't, i'll,\n",
      "Nearest to these: those, several, such, various, sorts, qadhafi, coverts, 20000,\n",
      "Nearest to when: before, because, since, till, if, while, until, presently,\n",
      "Nearest to will: may, shall, must, would, i'll, can, won't, should,\n",
      "Nearest to UNK: digested, deux, bureaucrats, evasion, fine, nash, 1842, scapegoat,\n",
      "Nearest to had: has, have, having, hadn't, i've, you've, hath, haven't,\n",
      "Average loss at step 85000: 6.911563\n",
      "Average loss at step 90000: 6.914151\n",
      "Nearest to four: two, six, three, ten, several, twenty, five, eight,\n",
      "Nearest to six: four, twelve, eight, ten, three, seven, twenty, several,\n",
      "Nearest to up: back, forward, forth, off, down, along, stanley, strategically,\n",
      "Nearest to there: it, longer, here, disposable, airfoil, there's, garnet, decisively,\n",
      "Nearest to did: does, would, could, will, didn't, do, should, don't,\n",
      "Nearest to they: we, you, she, i, he, travellers, others, people,\n",
      "Nearest to well: soon, fast, cahiers, far, lorimer, klan, quickly, easily,\n",
      "Nearest to not: never, scarcely, hardly, really, also, always, scarce, foundling,\n",
      "Nearest to that: ainslie, snubbed, cute, which, whom, ramsgate, when, commencing,\n",
      "Nearest to all: everything, both, various, greatest, 'ah', havoc, hamper, redlaw,\n",
      "Nearest to would: will, might, could, should, must, may, did, wouldn't,\n",
      "Nearest to these: those, such, various, several, few, sorts, hundred, many,\n",
      "Nearest to when: till, before, since, if, unless, until, though, because,\n",
      "Nearest to will: would, must, may, shall, won't, i'll, might, can,\n",
      "Nearest to UNK: brown, papeete, voice, calumnies, enrich, banu, scapegoat, deux,\n",
      "Nearest to had: has, having, have, hadn't, i've, hath, haven't, hasn't,\n",
      "Average loss at step 95000: 7.237089\n",
      "Average loss at step 100000: 7.085913\n",
      "Nearest to four: two, six, three, twenty, several, five, ten, nine,\n",
      "Nearest to six: four, twelve, eight, seven, three, ten, two, several,\n",
      "Nearest to up: down, back, off, forward, forth, strategically, facade, along,\n",
      "Nearest to there: it, there's, here, 'it, visible, pollock, decisively, disposable,\n",
      "Nearest to did: does, do, could, will, didn't, shall, would, don't,\n",
      "Nearest to they: we, you, i, he, she, cloaks, familiarly, travellers,\n",
      "Nearest to well: soon, fast, much, cahiers, true, quickly, shareholder, best,\n",
      "Nearest to not: never, scarcely, hardly, also, scarce, really, sacramento, nothing,\n",
      "Nearest to that: which, inattention, although, where, ramsgate, lehmann, what, a--a,\n",
      "Nearest to all: various, both, tensile, worst, everything, greatest, qb, last,\n",
      "Nearest to would: will, might, should, must, may, wouldn't, could, won't,\n",
      "Nearest to these: those, sorts, such, many, several, various, interwoven, hundred,\n",
      "Nearest to when: before, presently, until, then, while, where, if, because,\n",
      "Nearest to will: shall, would, may, can, must, won't, should, cannot,\n",
      "Nearest to UNK: unfitted, malevolence, wines, per, accessibility, j, doola, accountant,\n",
      "Nearest to had: has, have, having, hadn't, haven't, i've, hath, could,\n"
     ]
    }
   ],
   "source": [
    "num_steps = 100001\n",
    "\n",
    "with tf.Session(graph=graph) as session:\n",
    "    saver = tf.train.Saver()\n",
    "    writer = tf.summary.FileWriter(\n",
    "        './tf_log/' + datetime.datetime.now().strftime('%H:%M:%S'), session.graph)\n",
    "    merged = tf.summary.merge_all()\n",
    "    tf.global_variables_initializer().run()\n",
    "    print('Initialized')\n",
    "    average_loss = 0\n",
    "    for step in tqdm.tqdm_notebook(range(num_steps)):\n",
    "        batch_data, batch_labels = generate_cbow_batch(batch_size=batch_size)\n",
    "        feed_dict = {train_dataset: batch_data, train_labels: batch_labels}\n",
    "        _, l, summary = session.run([optimizer, loss, merged], feed_dict=feed_dict)\n",
    "        writer.add_summary(summary, step)\n",
    "        average_loss += l\n",
    "        if step % 5000 == 0:\n",
    "            if step > 0:\n",
    "                average_loss = average_loss / 2000\n",
    "            # The average loss is an estimate of the loss over the last 2000 batches.\n",
    "            print('Average loss at step %d: %f' % (step, average_loss))\n",
    "            average_loss = 0\n",
    "        # note that this is expensive (~20% slowdown if computed every 500 steps)\n",
    "        if step % 10000 == 0:\n",
    "            sim = similarity.eval()\n",
    "            for i in range(valid_size):\n",
    "                valid_word = reverse_dictionary[valid_examples[i]]\n",
    "                top_k = 8  # number of nearest neighbors\n",
    "                nearest = (-sim[i, :]).argsort()[1:top_k + 1]\n",
    "                log = 'Nearest to %s:' % valid_word\n",
    "                for k in range(top_k):\n",
    "                    close_word = reverse_dictionary[nearest[k]]\n",
    "                    log = '%s %s,' % (log, close_word)\n",
    "                print(log)\n",
    "            saver.save(session, os.path.join('./tf_log/', \"model.ckpt\"), step)\n",
    "    final_embeddings = normalized_embeddings.eval()"
   ]
  },
  {
   "cell_type": "code",
   "execution_count": null,
   "metadata": {
    "ExecuteTime": {
     "end_time": "2018-06-09T19:52:16.632261Z",
     "start_time": "2018-06-09T19:48:04.551327Z"
    },
    "cellView": "both",
    "colab": {
     "autoexec": {
      "startup": false,
      "wait_interval": 0
     }
    },
    "colab_type": "code",
    "id": "jjJXYA_XzV79"
   },
   "outputs": [],
   "source": [
    "num_points = 1000\n",
    "\n",
    "tsne = TSNE(\n",
    "    perplexity=30, n_components=2, init='pca', n_iter=5000, method='exact')\n",
    "two_d_embeddings = tsne.fit_transform(final_embeddings[1:num_points + 1, :])"
   ]
  },
  {
   "cell_type": "code",
   "execution_count": null,
   "metadata": {
    "ExecuteTime": {
     "end_time": "2018-06-09T19:52:24.226644Z",
     "start_time": "2018-06-09T19:52:19.128769Z"
    },
    "cellView": "both",
    "colab": {
     "autoexec": {
      "startup": false,
      "wait_interval": 0
     },
     "output_extras": [
      {
       "item_id": 1
      }
     ]
    },
    "colab_type": "code",
    "executionInfo": {
     "elapsed": 4763,
     "status": "ok",
     "timestamp": 1445965465525,
     "user": {
      "color": "#1FA15D",
      "displayName": "Vincent Vanhoucke",
      "isAnonymous": false,
      "isMe": true,
      "permissionId": "05076109866853157986",
      "photoUrl": "//lh6.googleusercontent.com/-cCJa7dTDcgQ/AAAAAAAAAAI/AAAAAAAACgw/r2EZ_8oYer4/s50-c-k-no/photo.jpg",
      "sessionId": "2f1ffade4c9f20de",
      "userId": "102167687554210253930"
     },
     "user_tz": 420
    },
    "id": "o_e0D_UezcDe",
    "outputId": "df22e4a5-e8ec-4e5e-d384-c6cf37c68c34"
   },
   "outputs": [],
   "source": [
    "def plot(embeddings, labels):\n",
    "    assert embeddings.shape[0] >= len(labels), 'More labels than embeddings'\n",
    "    pylab.figure(figsize=(15, 15))  # in inches\n",
    "    for i, label in enumerate(labels):\n",
    "        x, y = embeddings[i, :]\n",
    "        pylab.scatter(x, y)\n",
    "        pylab.annotate(\n",
    "            label,\n",
    "            xy=(x, y),\n",
    "            xytext=(5, 2),\n",
    "            textcoords='offset points',\n",
    "            ha='right',\n",
    "            va='bottom')\n",
    "    pylab.show()\n",
    "\n",
    "\n",
    "words = [reverse_dictionary[i] for i in range(1, num_points + 1)]\n",
    "plot(two_d_embeddings, words)"
   ]
  },
  {
   "cell_type": "code",
   "execution_count": null,
   "metadata": {},
   "outputs": [],
   "source": [
    "print('done!!')"
   ]
  },
  {
   "cell_type": "code",
   "execution_count": null,
   "metadata": {},
   "outputs": [],
   "source": []
  }
 ],
 "metadata": {
  "colab": {
   "default_view": {},
   "name": "5_word2vec.ipynb",
   "provenance": [],
   "version": "0.3.2",
   "views": {}
  },
  "kernelspec": {
   "display_name": "Python 3",
   "language": "python",
   "name": "python3"
  },
  "language_info": {
   "codemirror_mode": {
    "name": "ipython",
    "version": 3
   },
   "file_extension": ".py",
   "mimetype": "text/x-python",
   "name": "python",
   "nbconvert_exporter": "python",
   "pygments_lexer": "ipython3",
   "version": "3.6.4"
  },
  "notify_time": "10",
  "toc": {
   "base_numbering": 1,
   "nav_menu": {
    "height": "86px",
    "width": "180px"
   },
   "number_sections": true,
   "sideBar": true,
   "skip_h1_title": false,
   "title_cell": "Table of Contents",
   "title_sidebar": "Contents",
   "toc_cell": false,
   "toc_position": {},
   "toc_section_display": true,
   "toc_window_display": false
  },
  "varInspector": {
   "cols": {
    "lenName": "30",
    "lenType": "20",
    "lenVar": "70"
   },
   "kernels_config": {
    "python": {
     "delete_cmd_postfix": "",
     "delete_cmd_prefix": "del ",
     "library": "var_list.py",
     "varRefreshCmd": "print(var_dic_list())"
    },
    "r": {
     "delete_cmd_postfix": ") ",
     "delete_cmd_prefix": "rm(",
     "library": "var_list.r",
     "varRefreshCmd": "cat(var_dic_list()) "
    }
   },
   "position": {
    "height": "367px",
    "left": "706px",
    "right": "20px",
    "top": "187px",
    "width": "710px"
   },
   "types_to_exclude": [
    "module",
    "function",
    "builtin_function_or_method",
    "instance",
    "_Feature"
   ],
   "window_display": false
  }
 },
 "nbformat": 4,
 "nbformat_minor": 1
}
